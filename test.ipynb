{
 "cells": [
  {
   "cell_type": "code",
   "execution_count": 3,
   "id": "b631b1ea",
   "metadata": {},
   "outputs": [],
   "source": [
    "from agent import agent\n",
    "from agents import Runner, RunConfig"
   ]
  },
  {
   "cell_type": "code",
   "execution_count": 9,
   "id": "9105ea3e",
   "metadata": {},
   "outputs": [
    {
     "name": "stdout",
     "output_type": "stream",
     "text": [
      "Phase: Research\n",
      "\n",
      "1. Research Summary:\n",
      "   - ParkMyCloud: Offers scheduling for AWS instances and automates instance management.\n",
      "   - AWS Instance Scheduler: Provides cloud instance control with native AWS integration features.\n",
      "   - GitHub & Next.js websites: Exemplary modern, dark-themed designs with a focus on usability and clear feature presentation.\n",
      "\n",
      "2. Feature Table:\n",
      "\n",
      "| Feature              | Description                                                                                         | Notes                                           |\n",
      "|----------------------|-----------------------------------------------------------------------------------------------------|-------------------------------------------------|\n",
      "| Landing Page         | Modern, dark-themed landing page with a design similar to GitHub/Next.js                            | Attractive UI to showcase app features          |\n",
      "| AWS Integration      | Ability for users to integrate their AWS account                                                   | Secure, easy configuration                      |\n",
      "| Instance Scheduling  | Functionality similar to ParkMyCloud for scheduling instance operations                            | Automates start/stop scheduling                 |\n",
      "| Subdomain Management | Assign unique subdomains per instance with auto-handling of IP changes (no elastic IP required)     | Supports CNAME configuration for custom domains |\n",
      "| Request Monitoring   | Feature to log and monitor all incoming requests for debugging purposes, tailored for dev servers    | Essential for development diagnostics           |\n",
      "| Other/Custom         | Additional custom features as needed                                                                | Placeholder for future enhancements             |\n",
      "\n",
      "3. Questions Set:\n",
      "   1. Should the landing page strictly follow a modern dark-themed design akin to GitHub/Next.js?\n",
      "   2. Would you prefer the AWS integration to be a dedicated section on the landing page or a separate page?\n",
      "   3. Do you confirm that subdomain management should automatically handle IP changes without needing an elastic IP?\n",
      "\n",
      "Next Step Instruction: Please confirm if these details are correct to proceed.  \n",
      "Is this accurate? Type 'finalize' to proceed.\n"
     ]
    }
   ],
   "source": [
    "query = '''I need a nice landing page + features etc pages for my app, where user can integrate there AWS account, and have similar functionality to parkmycloud(scheduling instances).\n",
    "Also, it will have a subdomain attached to each instance so user's can CNAME their domain to the given subdomain, and it handles the IP change automatically(so no elastic IP required).\n",
    "It will also have a feature, which can monitor all incoming requests, so the user can log each request easily and debug them later(for development servers only).\n",
    "PS: I want a very modern, dark themed design for my landing page(something like github's or nextjs one's)'''\n",
    "run = await Runner.run(agent.assistant, query, run_config=RunConfig(model='o3-mini'))\n",
    "print(run.final_output)"
   ]
  },
  {
   "cell_type": "code",
   "execution_count": 10,
   "id": "f757ca02",
   "metadata": {},
   "outputs": [
    {
     "name": "stdout",
     "output_type": "stream",
     "text": [
      "Phase: Research\n",
      "\n",
      "1. Research Summary:\n",
      "   • ParkMyCloud – Connects via AWS IAM role; UI lets users set on/off schedules for EC2/RDS, saving 65% avg.  \n",
      "   • AWS Instance Scheduler (AWS Solution) – CloudFormation stack; uses tag-based rules to start/stop instances; no SaaS UI.  \n",
      "   • Ngrok – Gives each tunnel a unique subdomain, auto handles IP changes; built-in request inspector logs every HTTP/S call for debugging.\n",
      "\n",
      "2. Feature Table:\n",
      "\n",
      "| # | Feature | Notes / Scope |\n",
      "|---|---------|---------------|\n",
      "| 1 | Dark-themed marketing site | Hero, features, pricing, docs; style similar to GitHub/Next.js. |\n",
      "| 2 | AWS account integration | Secure OAuth-like flow with IAM role or Access Keys. |\n",
      "| 3 | Instance scheduling (ParkMyCloud-like) | Start/stop EC2 (later RDS/Lambda). |\n",
      "| 4 | Auto subdomain per instance | e.g., <id>.yourapp.com; CNAME-ready; auto-updates IP. |\n",
      "| 5 | Request logging inspector | Logs & UI viewer for inbound HTTP traffic (dev servers). |\n",
      "| 6 | Dashboard (user settings, schedules) | CRUD for schedules & logs. |\n",
      "| 7 | Auth & billing | Email/OAuth login, Stripe tiers. |\n",
      "| 8 | Other / Custom | Any additional integrations or themes. |\n",
      "\n",
      "3. Questions Set:\n",
      "   1) Include full dashboard (item 6) in MVP? (Yes/No)  \n",
      "   2) Need multicloud support (Azure/GCP) at launch? (Yes/No)  \n",
      "   3) Require built-in billing/subscriptions from day one? (Yes/No)\n",
      "\n",
      "4. Next Step Instruction: Please answer the above questions or type \"finalize\" if everything is correct.\n"
     ]
    }
   ],
   "source": [
    "query = '''I need a nice landing page + features etc pages for my app, where user can integrate there AWS account, and have similar functionality to parkmycloud(scheduling instances).\n",
    "Also, it will have a subdomain attached to each instance so user's can CNAME their domain to the given subdomain, and it handles the IP change automatically(so no elastic IP required).\n",
    "It will also have a feature, which can monitor all incoming requests, so the user can log each request easily and debug them later(for development servers only).\n",
    "PS: I want a very modern, dark themed design for my landing page(something like github's or nextjs one's)'''\n",
    "run = await Runner.run(agent.assistant, query, run_config=RunConfig(model='o3'))\n",
    "print(run.final_output)"
   ]
  },
  {
   "cell_type": "code",
   "execution_count": 7,
   "id": "d0a5fa51",
   "metadata": {},
   "outputs": [
    {
     "name": "stdout",
     "output_type": "stream",
     "text": [
      "Phase: Confirm Scope\n",
      "\n",
      "1. Summary of Your Inputs:\n",
      "   - Integration: No external platform integration; only OpenAI's APIs for the Chatbot.\n",
      "   - Response Speed: Aim is to be almost as fast as ChatGPT, focusing on cost-effectiveness rather than extreme speed.\n",
      "   - Secure Storage: Not a priority for the MVP; simplicity is key.\n",
      "\n",
      "2. Next Step Instruction:\n",
      "   Please confirm that these points accurately reflect your requirements. Is this accurate? Type 'finalize' to proceed.\n"
     ]
    }
   ],
   "source": [
    "resp = '''I don't want to integrate with any external platform, except using OpenAI's APIs for the Chatbot.\n",
    "Doesn't need to be extremely fast, almost same as ChatGPT ones and should be cost-effective.\n",
    "For now Secure Storage ain't that important, we're building a simple MVP right now.'''\n",
    "\n",
    "input_list = run.to_input_list()\n",
    "input_list.append({\n",
    "    \"role\": \"user\",\n",
    "    \"content\": resp\n",
    "})\n",
    "\n",
    "run2 = await Runner.run(agent.assistant, input_list, run_config=RunConfig(model='o3-mini'))\n",
    "\n",
    "print(run2.final_output)"
   ]
  },
  {
   "cell_type": "code",
   "execution_count": null,
   "id": "35fb9e0a",
   "metadata": {},
   "outputs": [],
   "source": [
    "print(run2.final_output)"
   ]
  },
  {
   "cell_type": "code",
   "execution_count": 8,
   "id": "7838201e",
   "metadata": {},
   "outputs": [
    {
     "name": "stdout",
     "output_type": "stream",
     "text": [
      "Phase: User Stories\n",
      "\n",
      "1. User Story 1: User Profile/Intake  \n",
      "   - As a user, I want to answer an initial questionnaire so that the app can understand my background and needs.  \n",
      "   - Acceptance Criteria:  \n",
      "     • The system displays clear questions during onboarding.  \n",
      "     • User responses are collected and stored temporarily (as this is an MVP).  \n",
      "     • The information is used to filter subsequent options.\n",
      "\n",
      "2. User Story 2: Tailored Options Display  \n",
      "   - As a user, I want to see personalized options based on my initial input so that I can choose a goal or area to work on.  \n",
      "   - Acceptance Criteria:  \n",
      "     • The system presents options that directly reflect the initial questionnaire responses.  \n",
      "     • Options are easily selectable and lead to a detailed chat session.\n",
      "\n",
      "3. User Story 3: Chat Interface with History Panel  \n",
      "   - As a user, I want a chat interface similar to ChatGPT with a history drawer so that I can have continuous and accessible sessions.  \n",
      "   - Acceptance Criteria:  \n",
      "     • The main chat area displays the conversation in a readable format.  \n",
      "     • The left drawer shows past chat sessions in an organized manner.  \n",
      "     • Users can select a previous session to review it.\n",
      "\n",
      "4. User Story 4: AI-Powered Professional Response  \n",
      "   - As a user, I want the AI to provide responses as a professional psychologist/counselor so that I feel understood and supported.  \n",
      "   - Acceptance Criteria:  \n",
      "     • The AI uses OpenAI's APIs to generate responses.  \n",
      "     • The tone and content of responses align with professional counseling.  \n",
      "     • Sessions remain contextually relevant based on prior conversation.\n",
      "\n",
      "5. User Story 5: Cost-Effective, Moderately Fast Responses  \n",
      "   - As a user, I want the chat responses to be delivered at a speed comparable to ChatGPT but optimized for cost, ensuring a balanced user experience.  \n",
      "   - Acceptance Criteria:  \n",
      "     • The system leverages OpenAI’s API with cost-effective calls.  \n",
      "     • Response times are comparable to benchmarked ChatGPT speeds while maintaining budget objectives.\n",
      "\n",
      "6. User Story 6: Other/Custom Features (MVP Scope)  \n",
      "   - As a product owner, I want the architecture to allow for future additions so that new features can be integrated without significant redesign.  \n",
      "   - Acceptance Criteria:  \n",
      "     • The system architecture is modular.  \n",
      "     • There is documentation on how to extend the current functionality.\n",
      "\n",
      "Handing over to the coding agent.\n"
     ]
    }
   ],
   "source": [
    "run = run2\n",
    "resp = '''Finalize'''\n",
    "\n",
    "input_list = run.to_input_list()\n",
    "input_list.append({\n",
    "    \"role\": \"user\",\n",
    "    \"content\": resp\n",
    "})\n",
    "\n",
    "run2 = await Runner.run(agent.assistant, input_list, run_config=RunConfig(model='o3-mini'))\n",
    "\n",
    "print(run2.final_output)"
   ]
  }
 ],
 "metadata": {
  "kernelspec": {
   "display_name": "Python 3",
   "language": "python",
   "name": "python3"
  },
  "language_info": {
   "codemirror_mode": {
    "name": "ipython",
    "version": 3
   },
   "file_extension": ".py",
   "mimetype": "text/x-python",
   "name": "python",
   "nbconvert_exporter": "python",
   "pygments_lexer": "ipython3",
   "version": "3.11.3"
  }
 },
 "nbformat": 4,
 "nbformat_minor": 5
}
